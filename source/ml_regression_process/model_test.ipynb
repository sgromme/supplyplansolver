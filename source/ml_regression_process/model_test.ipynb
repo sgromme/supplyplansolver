{
 "cells": [
  {
   "cell_type": "markdown",
   "id": "23844258",
   "metadata": {},
   "source": [
    "### Making call to data generator to get the .csv files\n"
   ]
  },
  {
   "cell_type": "code",
   "execution_count": 14,
   "id": "5661c794",
   "metadata": {},
   "outputs": [],
   "source": [
    "import pandas as pd\n",
    "import numpy as np\n",
    "import xgboost as xgb\n",
    "import matplotlib.pyplot as plt\n",
    "import scipy.stats as stats\n",
    "from sklearn.model_selection import train_test_split\n",
    "\n",
    "from sklearn.preprocessing import MinMaxScaler\n",
    "import subprocess\n",
    "from sklearn.model_selection import train_test_split\n",
    "from pathlib import Path\n",
    "import os"
   ]
  },
  {
   "cell_type": "code",
   "execution_count": 15,
   "id": "f815d6f3",
   "metadata": {},
   "outputs": [],
   "source": [
    "import sys\n",
    "from pathlib import Path\n",
    "sys.path.append(str(Path.cwd() / \"..\" / \"..\"))\n"
   ]
  },
  {
   "cell_type": "code",
   "execution_count": 16,
   "id": "89ca4ae2",
   "metadata": {},
   "outputs": [],
   "source": [
    "from source.sp_data_generator.supply_planning_data_generator import SupplyPlanningDataGenerator"
   ]
  },
  {
   "cell_type": "code",
   "execution_count": null,
   "id": "b0ca2f84",
   "metadata": {},
   "outputs": [],
   "source": [
    "generator = SupplyPlanningDataGenerator(seed=42)\n",
    "\n",
    "# Generate a complete dataset\n",
    "dataset = generator.generate_full_dataset(\n",
    "    num_products=20,\n",
    "    num_facilities=5,\n",
    "    periods=52,\n",
    "    frequency='W',  # Weekly data\n",
    "    start_date='2023-01-01'\n",
    ")\n",
    "\n",
    "for key in dataset.keys():\n",
    "    key_str = str(key) + \".csv\"\n",
    "    df = dataset[key]\n",
    "    file_path = os.path.join(\"data\", key_str)\n",
    "    df.to_csv(file_path, index=True)\n",
    "\n",
    "\n"
   ]
  },
  {
   "cell_type": "code",
   "execution_count": null,
   "id": "01201b73",
   "metadata": {},
   "outputs": [],
   "source": [
    "#Only get first 4 products to test model\n",
    "df = pd.read_csv(\"data/demand.csv\")\n",
    "prod_list = ['P0001', 'P0002', 'P0003', 'P0004']\n",
    "demand_abbreviated_df = df[df['product_id'].isin(prod_list)]\n"
   ]
  },
  {
   "cell_type": "code",
   "execution_count": null,
   "id": "22f5eeb9",
   "metadata": {},
   "outputs": [],
   "source": [
    "# Adding a month feature column taken from the data column, encoded as a number 1-12, also encouding the facilitys 1 through 3\n",
    "demand_abbreviated_df[\"day_of_year\"] = pd.to_datetime(demand_abbreviated_df['date']).dt.dayofyear\n",
    "demand_abbreviated_df[\"Month\"] = demand_abbreviated_df['date'].str[5:7].astype(int)\n",
    "demand_abbreviated_df[\"facility_id\"] = demand_abbreviated_df[\"facility_id\"].str[2:].astype(int)\n",
    "demand_abbreviated_df.drop(columns=['date'], inplace=True)\n",
    "\n"
   ]
  },
  {
   "cell_type": "code",
   "execution_count": null,
   "id": "1c8e332a",
   "metadata": {},
   "outputs": [],
   "source": [
    "demand_abbreviated_df[\"demand\"].describe()\n",
    "demand_abbreviated_df.head(150)"
   ]
  },
  {
   "cell_type": "code",
   "execution_count": null,
   "id": "d1cce5e0",
   "metadata": {},
   "outputs": [],
   "source": [
    "result_item1 = demand_abbreviated_df[demand_abbreviated_df['product_id'] == 'P0001']\n",
    "df_month_sum1 = result_item1.groupby(['Month']).sum()['demand']\n",
    "\n",
    "result_item2 = demand_abbreviated_df[demand_abbreviated_df['product_id'] == 'P0002']\n",
    "df_month_sum2 = result_item2.groupby(['Month']).sum()['demand']\n",
    "\n",
    "result_item3 = demand_abbreviated_df[demand_abbreviated_df['product_id'] == 'P0003']\n",
    "df_month_sum3 = result_item3.groupby(['Month']).sum()['demand']\n",
    "\n",
    "result_item4 = demand_abbreviated_df[demand_abbreviated_df['product_id'] == 'P0004']\n",
    "df_month_sum4 = result_item4.groupby(['Month']).sum()['demand']\n",
    "\n",
    "fig, ax = plt.subplots(1,1)\n",
    "df_month_sum1.plot(x='Month', y='demand', label='P0001')\n",
    "df_month_sum2.plot(x='Month', y='demand', label='P0002')\n",
    "df_month_sum3.plot(x='Month', y='demand', label='P0003')\n",
    "df_month_sum4.plot(x='Month', y='demand', label='P0004')\n",
    "\n",
    "ax.set_xlabel('Month')\n",
    "ax.set_ylabel('Demand')\n",
    "ax.set_title('Average Monthly Demand of 4 Products')\n",
    "ax.legend()\n",
    "plt.show()"
   ]
  },
  {
   "cell_type": "code",
   "execution_count": null,
   "id": "fdd366f3",
   "metadata": {},
   "outputs": [],
   "source": [
    "demand_total = demand_abbreviated_df['demand']\n",
    "plt.hist(demand_total, bins=50)\n",
    "plt.title('Histogram of Demand')\n",
    "plt.show()\n",
    "\n",
    "stats.probplot(demand_total, dist='norm', plot=plt)\n",
    "plt.title('Normal Q-Q Plot of Demand')\n",
    "plt.show()\n",
    "\n",
    "print(stats.shapiro(demand_total))"
   ]
  },
  {
   "cell_type": "code",
   "execution_count": null,
   "id": "f78ff4d8",
   "metadata": {},
   "outputs": [],
   "source": [
    "demand_abbreviated_df['product_id'] = demand_abbreviated_df['product_id'].str[3:].astype(int)"
   ]
  },
  {
   "cell_type": "code",
   "execution_count": null,
   "id": "14ee4ba6",
   "metadata": {},
   "outputs": [],
   "source": [
    "from sklearn.metrics import mean_squared_error\n",
    "\n",
    "X = demand_abbreviated_df.drop(columns=['demand'])\n",
    "y = demand_abbreviated_df['demand']\n",
    "X_train, X_test, y_train, y_test = train_test_split(X, y, test_size=0.2, random_state=42)\n",
    "\n",
    "model = xgb.XGBRegressor(objective='reg:squarederror', n_estimators=100, learning_rate=0.1)\n",
    "model.fit(X_train, y_train)\n",
    "predictions = model.predict(X_test)\n",
    "mse = mean_squared_error(y_test, predictions)\n",
    "print(f\"Mean Squared Error: {mse}\")"
   ]
  }
 ],
 "metadata": {
  "kernelspec": {
   "display_name": "Python 3 (ipykernel)",
   "language": "python",
   "name": "python3"
  },
  "language_info": {
   "codemirror_mode": {
    "name": "ipython",
    "version": 3
   },
   "file_extension": ".py",
   "mimetype": "text/x-python",
   "name": "python",
   "nbconvert_exporter": "python",
   "pygments_lexer": "ipython3",
   "version": "3.10.14"
  }
 },
 "nbformat": 4,
 "nbformat_minor": 5
}
