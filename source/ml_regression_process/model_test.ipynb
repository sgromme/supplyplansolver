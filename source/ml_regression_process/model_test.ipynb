{
 "cells": [
  {
   "cell_type": "markdown",
   "id": "23844258",
   "metadata": {},
   "source": [
    "### Making call to data generator to get the .csv files\n"
   ]
  },
  {
   "cell_type": "code",
   "execution_count": 29,
   "id": "5661c794",
   "metadata": {},
   "outputs": [],
   "source": [
    "import pandas as pd\n",
    "import numpy as np\n",
    "import xgboost as xgb\n",
    "import matplotlib.pyplot as plt\n",
    "import scipy.stats as stats\n",
    "from sklearn.model_selection import train_test_split\n",
    "\n",
    "from sklearn.preprocessing import MinMaxScaler\n",
    "import subprocess\n",
    "from sklearn.model_selection import train_test_split\n",
    "from pathlib import Path\n",
    "import os"
   ]
  },
  {
   "cell_type": "code",
   "execution_count": 30,
   "id": "f815d6f3",
   "metadata": {},
   "outputs": [],
   "source": [
    "import sys\n",
    "from pathlib import Path\n",
    "sys.path.append(str(Path.cwd() / \"..\" / \"..\"))\n"
   ]
  },
  {
   "cell_type": "code",
   "execution_count": 31,
   "id": "89ca4ae2",
   "metadata": {},
   "outputs": [],
   "source": [
    "from source.sp_data_generator.supply_planning_data_generator import SupplyPlanningDataGenerator"
   ]
  },
  {
   "cell_type": "code",
   "execution_count": 21,
   "id": "b0ca2f84",
   "metadata": {},
   "outputs": [],
   "source": [
    "generator = SupplyPlanningDataGenerator(seed=42)\n",
    "\n",
    "# Generate a complete dataset\n",
    "dataset = generator.generate_full_dataset(\n",
    "    num_products=20,\n",
    "    num_facilities=5,\n",
    "    periods=52,\n",
    "    frequency='W',  # Weekly data\n",
    "    start_date='2023-01-01'\n",
    ")\n",
    "\n",
    "for key in dataset.keys():\n",
    "    key_str = str(key) + \".csv\"\n",
    "    df = dataset[key]\n",
    "    file_path = os.path.join(\"data\", key_str)\n",
    "    df.to_csv(file_path, index=True)\n",
    "\n",
    "\n"
   ]
  },
  {
   "cell_type": "code",
   "execution_count": 22,
   "id": "01201b73",
   "metadata": {},
   "outputs": [],
   "source": [
    "#Only get first 4 products to test model\n",
    "df = pd.read_csv(\"data/demand.csv\")\n",
    "prod_list = ['P0001', 'P0002', 'P0003', 'P0004']\n",
    "demand_abbreviated_df = df[df['product_id'].isin(prod_list)]\n"
   ]
  },
  {
   "cell_type": "code",
   "execution_count": 23,
   "id": "22f5eeb9",
   "metadata": {},
   "outputs": [
    {
     "name": "stderr",
     "output_type": "stream",
     "text": [
      "/var/folders/1y/9ylqcnz53wq648vdrx0nnt2w0000gn/T/ipykernel_70527/1660942486.py:2: SettingWithCopyWarning: \n",
      "A value is trying to be set on a copy of a slice from a DataFrame.\n",
      "Try using .loc[row_indexer,col_indexer] = value instead\n",
      "\n",
      "See the caveats in the documentation: https://pandas.pydata.org/pandas-docs/stable/user_guide/indexing.html#returning-a-view-versus-a-copy\n",
      "  demand_abbreviated_df[\"day_of_year\"] = pd.to_datetime(demand_abbreviated_df['date']).dt.dayofyear\n",
      "/var/folders/1y/9ylqcnz53wq648vdrx0nnt2w0000gn/T/ipykernel_70527/1660942486.py:3: SettingWithCopyWarning: \n",
      "A value is trying to be set on a copy of a slice from a DataFrame.\n",
      "Try using .loc[row_indexer,col_indexer] = value instead\n",
      "\n",
      "See the caveats in the documentation: https://pandas.pydata.org/pandas-docs/stable/user_guide/indexing.html#returning-a-view-versus-a-copy\n",
      "  demand_abbreviated_df[\"Month\"] = demand_abbreviated_df['date'].str[5:7].astype(int)\n",
      "/var/folders/1y/9ylqcnz53wq648vdrx0nnt2w0000gn/T/ipykernel_70527/1660942486.py:4: SettingWithCopyWarning: \n",
      "A value is trying to be set on a copy of a slice from a DataFrame.\n",
      "Try using .loc[row_indexer,col_indexer] = value instead\n",
      "\n",
      "See the caveats in the documentation: https://pandas.pydata.org/pandas-docs/stable/user_guide/indexing.html#returning-a-view-versus-a-copy\n",
      "  demand_abbreviated_df[\"facility_id\"] = demand_abbreviated_df[\"facility_id\"].str[2:].astype(int)\n",
      "/var/folders/1y/9ylqcnz53wq648vdrx0nnt2w0000gn/T/ipykernel_70527/1660942486.py:5: SettingWithCopyWarning: \n",
      "A value is trying to be set on a copy of a slice from a DataFrame\n",
      "\n",
      "See the caveats in the documentation: https://pandas.pydata.org/pandas-docs/stable/user_guide/indexing.html#returning-a-view-versus-a-copy\n",
      "  demand_abbreviated_df.drop(columns=['date'], inplace=True)\n"
     ]
    }
   ],
   "source": [
    "# Adding a month feature column taken from the data column, encoded as a number 1-12, also encouding the facilitys 1 through 3\n",
    "demand_abbreviated_df[\"day_of_year\"] = pd.to_datetime(demand_abbreviated_df['date']).dt.dayofyear\n",
    "demand_abbreviated_df[\"Month\"] = demand_abbreviated_df['date'].str[5:7].astype(int)\n",
    "demand_abbreviated_df[\"facility_id\"] = demand_abbreviated_df[\"facility_id\"].str[2:].astype(int)\n",
    "demand_abbreviated_df.drop(columns=['date'], inplace=True)\n",
    "\n"
   ]
  },
  {
   "cell_type": "code",
   "execution_count": 24,
   "id": "1c8e332a",
   "metadata": {},
   "outputs": [
    {
     "data": {
      "application/vnd.microsoft.datawrangler.viewer.v0+json": {
       "columns": [
        {
         "name": "index",
         "rawType": "int64",
         "type": "integer"
        },
        {
         "name": "Unnamed: 0",
         "rawType": "int64",
         "type": "integer"
        },
        {
         "name": "product_id",
         "rawType": "object",
         "type": "string"
        },
        {
         "name": "facility_id",
         "rawType": "int64",
         "type": "integer"
        },
        {
         "name": "demand",
         "rawType": "int64",
         "type": "integer"
        },
        {
         "name": "day_of_year",
         "rawType": "int32",
         "type": "integer"
        },
        {
         "name": "Month",
         "rawType": "int64",
         "type": "integer"
        }
       ],
       "ref": "2b5198c3-ce69-4969-86d1-f90f1c97859c",
       "rows": [
        [
         "0",
         "0",
         "P0001",
         "1",
         "459",
         "1",
         "1"
        ],
        [
         "1",
         "1",
         "P0001",
         "1",
         "662",
         "8",
         "1"
        ],
        [
         "2",
         "2",
         "P0001",
         "1",
         "561",
         "15",
         "1"
        ],
        [
         "3",
         "3",
         "P0001",
         "1",
         "864",
         "22",
         "1"
        ],
        [
         "4",
         "4",
         "P0001",
         "1",
         "672",
         "29",
         "1"
        ],
        [
         "5",
         "5",
         "P0001",
         "1",
         "505",
         "36",
         "2"
        ],
        [
         "6",
         "6",
         "P0001",
         "1",
         "435",
         "43",
         "2"
        ],
        [
         "7",
         "7",
         "P0001",
         "1",
         "518",
         "50",
         "2"
        ],
        [
         "8",
         "8",
         "P0001",
         "1",
         "402",
         "57",
         "2"
        ],
        [
         "9",
         "9",
         "P0001",
         "1",
         "458",
         "64",
         "3"
        ],
        [
         "10",
         "10",
         "P0001",
         "1",
         "435",
         "71",
         "3"
        ],
        [
         "11",
         "11",
         "P0001",
         "1",
         "415",
         "78",
         "3"
        ],
        [
         "12",
         "12",
         "P0001",
         "1",
         "400",
         "85",
         "3"
        ],
        [
         "13",
         "13",
         "P0001",
         "1",
         "410",
         "92",
         "4"
        ],
        [
         "14",
         "14",
         "P0001",
         "1",
         "579",
         "99",
         "4"
        ],
        [
         "15",
         "15",
         "P0001",
         "1",
         "754",
         "106",
         "4"
        ],
        [
         "16",
         "16",
         "P0001",
         "1",
         "726",
         "113",
         "4"
        ],
        [
         "17",
         "17",
         "P0001",
         "1",
         "591",
         "120",
         "4"
        ],
        [
         "18",
         "18",
         "P0001",
         "1",
         "691",
         "127",
         "5"
        ],
        [
         "19",
         "19",
         "P0001",
         "1",
         "659",
         "134",
         "5"
        ],
        [
         "20",
         "20",
         "P0001",
         "1",
         "484",
         "141",
         "5"
        ],
        [
         "21",
         "21",
         "P0001",
         "1",
         "528",
         "148",
         "5"
        ],
        [
         "22",
         "22",
         "P0001",
         "1",
         "488",
         "155",
         "6"
        ],
        [
         "23",
         "23",
         "P0001",
         "1",
         "377",
         "162",
         "6"
        ],
        [
         "24",
         "24",
         "P0001",
         "1",
         "545",
         "169",
         "6"
        ],
        [
         "25",
         "25",
         "P0001",
         "1",
         "620",
         "176",
         "6"
        ],
        [
         "26",
         "26",
         "P0001",
         "1",
         "739",
         "183",
         "7"
        ],
        [
         "27",
         "27",
         "P0001",
         "1",
         "807",
         "190",
         "7"
        ],
        [
         "28",
         "28",
         "P0001",
         "1",
         "640",
         "197",
         "7"
        ],
        [
         "29",
         "29",
         "P0001",
         "1",
         "711",
         "204",
         "7"
        ],
        [
         "30",
         "30",
         "P0001",
         "1",
         "843",
         "211",
         "7"
        ],
        [
         "31",
         "31",
         "P0001",
         "1",
         "813",
         "218",
         "8"
        ],
        [
         "32",
         "32",
         "P0001",
         "1",
         "761",
         "225",
         "8"
        ],
        [
         "33",
         "33",
         "P0001",
         "1",
         "1008",
         "232",
         "8"
        ],
        [
         "34",
         "34",
         "P0001",
         "1",
         "657",
         "239",
         "8"
        ],
        [
         "35",
         "35",
         "P0001",
         "1",
         "678",
         "246",
         "9"
        ],
        [
         "36",
         "36",
         "P0001",
         "1",
         "660",
         "253",
         "9"
        ],
        [
         "37",
         "37",
         "P0001",
         "1",
         "663",
         "260",
         "9"
        ],
        [
         "38",
         "38",
         "P0001",
         "1",
         "631",
         "267",
         "9"
        ],
        [
         "39",
         "39",
         "P0001",
         "1",
         "800",
         "274",
         "10"
        ],
        [
         "40",
         "40",
         "P0001",
         "1",
         "730",
         "281",
         "10"
        ],
        [
         "41",
         "41",
         "P0001",
         "1",
         "836",
         "288",
         "10"
        ],
        [
         "42",
         "42",
         "P0001",
         "1",
         "843",
         "295",
         "10"
        ],
        [
         "43",
         "43",
         "P0001",
         "1",
         "894",
         "302",
         "10"
        ],
        [
         "44",
         "44",
         "P0001",
         "1",
         "1068",
         "309",
         "11"
        ],
        [
         "45",
         "45",
         "P0001",
         "1",
         "634",
         "316",
         "11"
        ],
        [
         "46",
         "46",
         "P0001",
         "1",
         "809",
         "323",
         "11"
        ],
        [
         "47",
         "47",
         "P0001",
         "1",
         "547",
         "330",
         "11"
        ],
        [
         "48",
         "48",
         "P0001",
         "1",
         "621",
         "337",
         "12"
        ],
        [
         "49",
         "49",
         "P0001",
         "1",
         "763",
         "344",
         "12"
        ]
       ],
       "shape": {
        "columns": 6,
        "rows": 150
       }
      },
      "text/html": [
       "<div>\n",
       "<style scoped>\n",
       "    .dataframe tbody tr th:only-of-type {\n",
       "        vertical-align: middle;\n",
       "    }\n",
       "\n",
       "    .dataframe tbody tr th {\n",
       "        vertical-align: top;\n",
       "    }\n",
       "\n",
       "    .dataframe thead th {\n",
       "        text-align: right;\n",
       "    }\n",
       "</style>\n",
       "<table border=\"1\" class=\"dataframe\">\n",
       "  <thead>\n",
       "    <tr style=\"text-align: right;\">\n",
       "      <th></th>\n",
       "      <th>Unnamed: 0</th>\n",
       "      <th>product_id</th>\n",
       "      <th>facility_id</th>\n",
       "      <th>demand</th>\n",
       "      <th>day_of_year</th>\n",
       "      <th>Month</th>\n",
       "    </tr>\n",
       "  </thead>\n",
       "  <tbody>\n",
       "    <tr>\n",
       "      <th>0</th>\n",
       "      <td>0</td>\n",
       "      <td>P0001</td>\n",
       "      <td>1</td>\n",
       "      <td>459</td>\n",
       "      <td>1</td>\n",
       "      <td>1</td>\n",
       "    </tr>\n",
       "    <tr>\n",
       "      <th>1</th>\n",
       "      <td>1</td>\n",
       "      <td>P0001</td>\n",
       "      <td>1</td>\n",
       "      <td>662</td>\n",
       "      <td>8</td>\n",
       "      <td>1</td>\n",
       "    </tr>\n",
       "    <tr>\n",
       "      <th>2</th>\n",
       "      <td>2</td>\n",
       "      <td>P0001</td>\n",
       "      <td>1</td>\n",
       "      <td>561</td>\n",
       "      <td>15</td>\n",
       "      <td>1</td>\n",
       "    </tr>\n",
       "    <tr>\n",
       "      <th>3</th>\n",
       "      <td>3</td>\n",
       "      <td>P0001</td>\n",
       "      <td>1</td>\n",
       "      <td>864</td>\n",
       "      <td>22</td>\n",
       "      <td>1</td>\n",
       "    </tr>\n",
       "    <tr>\n",
       "      <th>4</th>\n",
       "      <td>4</td>\n",
       "      <td>P0001</td>\n",
       "      <td>1</td>\n",
       "      <td>672</td>\n",
       "      <td>29</td>\n",
       "      <td>1</td>\n",
       "    </tr>\n",
       "    <tr>\n",
       "      <th>...</th>\n",
       "      <td>...</td>\n",
       "      <td>...</td>\n",
       "      <td>...</td>\n",
       "      <td>...</td>\n",
       "      <td>...</td>\n",
       "      <td>...</td>\n",
       "    </tr>\n",
       "    <tr>\n",
       "      <th>145</th>\n",
       "      <td>145</td>\n",
       "      <td>P0001</td>\n",
       "      <td>3</td>\n",
       "      <td>482</td>\n",
       "      <td>288</td>\n",
       "      <td>10</td>\n",
       "    </tr>\n",
       "    <tr>\n",
       "      <th>146</th>\n",
       "      <td>146</td>\n",
       "      <td>P0001</td>\n",
       "      <td>3</td>\n",
       "      <td>640</td>\n",
       "      <td>295</td>\n",
       "      <td>10</td>\n",
       "    </tr>\n",
       "    <tr>\n",
       "      <th>147</th>\n",
       "      <td>147</td>\n",
       "      <td>P0001</td>\n",
       "      <td>3</td>\n",
       "      <td>618</td>\n",
       "      <td>302</td>\n",
       "      <td>10</td>\n",
       "    </tr>\n",
       "    <tr>\n",
       "      <th>148</th>\n",
       "      <td>148</td>\n",
       "      <td>P0001</td>\n",
       "      <td>3</td>\n",
       "      <td>589</td>\n",
       "      <td>309</td>\n",
       "      <td>11</td>\n",
       "    </tr>\n",
       "    <tr>\n",
       "      <th>149</th>\n",
       "      <td>149</td>\n",
       "      <td>P0001</td>\n",
       "      <td>3</td>\n",
       "      <td>557</td>\n",
       "      <td>316</td>\n",
       "      <td>11</td>\n",
       "    </tr>\n",
       "  </tbody>\n",
       "</table>\n",
       "<p>150 rows × 6 columns</p>\n",
       "</div>"
      ],
      "text/plain": [
       "     Unnamed: 0 product_id  facility_id  demand  day_of_year  Month\n",
       "0             0      P0001            1     459            1      1\n",
       "1             1      P0001            1     662            8      1\n",
       "2             2      P0001            1     561           15      1\n",
       "3             3      P0001            1     864           22      1\n",
       "4             4      P0001            1     672           29      1\n",
       "..          ...        ...          ...     ...          ...    ...\n",
       "145         145      P0001            3     482          288     10\n",
       "146         146      P0001            3     640          295     10\n",
       "147         147      P0001            3     618          302     10\n",
       "148         148      P0001            3     589          309     11\n",
       "149         149      P0001            3     557          316     11\n",
       "\n",
       "[150 rows x 6 columns]"
      ]
     },
     "execution_count": 24,
     "metadata": {},
     "output_type": "execute_result"
    }
   ],
   "source": [
    "demand_abbreviated_df[\"demand\"].describe()\n",
    "demand_abbreviated_df.head(150)"
   ]
  },
  {
   "cell_type": "code",
   "execution_count": 25,
   "id": "d1cce5e0",
   "metadata": {},
   "outputs": [
    {
     "data": {
      "image/png": "[encoded data removed]",
      "text/plain": [
       "<Figure size 640x480 with 1 Axes>"
      ]
     },
     "metadata": {},
     "output_type": "display_data"
    }
   ],
   "source": [
    "result_item1 = demand_abbreviated_df[demand_abbreviated_df['product_id'] == 'P0001']\n",
    "df_month_sum1 = result_item1.groupby(['Month']).sum()['demand']\n",
    "\n",
    "result_item2 = demand_abbreviated_df[demand_abbreviated_df['product_id'] == 'P0002']\n",
    "df_month_sum2 = result_item2.groupby(['Month']).sum()['demand']\n",
    "\n",
    "result_item3 = demand_abbreviated_df[demand_abbreviated_df['product_id'] == 'P0003']\n",
    "df_month_sum3 = result_item3.groupby(['Month']).sum()['demand']\n",
    "\n",
    "result_item4 = demand_abbreviated_df[demand_abbreviated_df['product_id'] == 'P0004']\n",
    "df_month_sum4 = result_item4.groupby(['Month']).sum()['demand']\n",
    "\n",
    "fig, ax = plt.subplots(1,1)\n",
    "df_month_sum1.plot(x='Month', y='demand', label='P0001')\n",
    "df_month_sum2.plot(x='Month', y='demand', label='P0002')\n",
    "df_month_sum3.plot(x='Month', y='demand', label='P0003')\n",
    "df_month_sum4.plot(x='Month', y='demand', label='P0004')\n",
    "\n",
    "ax.set_xlabel('Month')\n",
    "ax.set_ylabel('Demand')\n",
    "ax.set_title('Average Monthly Demand of 4 Products')\n",
    "ax.legend()\n",
    "plt.show()"
   ]
  },
  {
   "cell_type": "code",
   "execution_count": 26,
   "id": "fdd366f3",
   "metadata": {},
   "outputs": [
    {
     "data": {
      "image/png": "[encoded data removed]",
      "text/plain": [
       "<Figure size 640x480 with 1 Axes>"
      ]
     },
     "metadata": {},
     "output_type": "display_data"
    },
    {
     "data": {
      "image/png": "[encoded data removed]",
      "text/plain": [
       "<Figure size 640x480 with 1 Axes>"
      ]
     },
     "metadata": {},
     "output_type": "display_data"
    },
    {
     "name": "stdout",
     "output_type": "stream",
     "text": [
      "ShapiroResult(statistic=np.float64(0.9323401776607577), pvalue=np.float64(3.4594275844078817e-16))\n"
     ]
    }
   ],
   "source": [
    "demand_total = demand_abbreviated_df['demand']\n",
    "plt.hist(demand_total, bins=50)\n",
    "plt.title('Histogram of Demand')\n",
    "plt.show()\n",
    "\n",
    "stats.probplot(demand_total, dist='norm', plot=plt)\n",
    "plt.title('Normal Q-Q Plot of Demand')\n",
    "plt.show()\n",
    "\n",
    "print(stats.shapiro(demand_total))"
   ]
  },
  {
   "cell_type": "code",
   "execution_count": 27,
   "id": "f78ff4d8",
   "metadata": {},
   "outputs": [
    {
     "name": "stderr",
     "output_type": "stream",
     "text": [
      "/var/folders/1y/9ylqcnz53wq648vdrx0nnt2w0000gn/T/ipykernel_70527/1077127334.py:1: SettingWithCopyWarning: \n",
      "A value is trying to be set on a copy of a slice from a DataFrame.\n",
      "Try using .loc[row_indexer,col_indexer] = value instead\n",
      "\n",
      "See the caveats in the documentation: https://pandas.pydata.org/pandas-docs/stable/user_guide/indexing.html#returning-a-view-versus-a-copy\n",
      "  demand_abbreviated_df['product_id'] = demand_abbreviated_df['product_id'].str[3:].astype(int)\n"
     ]
    }
   ],
   "source": [
    "demand_abbreviated_df['product_id'] = demand_abbreviated_df['product_id'].str[3:].astype(int)"
   ]
  },
  {
   "cell_type": "code",
   "execution_count": 28,
   "id": "14ee4ba6",
   "metadata": {},
   "outputs": [
    {
     "name": "stdout",
     "output_type": "stream",
     "text": [
      "Mean Squared Error: 34061.15625\n"
     ]
    }
   ],
   "source": [
    "from sklearn.metrics import mean_squared_error\n",
    "\n",
    "X = demand_abbreviated_df.drop(columns=['demand'])\n",
    "y = demand_abbreviated_df['demand']\n",
    "X_train, X_test, y_train, y_test = train_test_split(X, y, test_size=0.2, random_state=42)\n",
    "\n",
    "model = xgb.XGBRegressor(objective='reg:squarederror', n_estimators=100, learning_rate=0.1)\n",
    "model.fit(X_train, y_train)\n",
    "predictions = model.predict(X_test)\n",
    "mse = mean_squared_error(y_test, predictions)\n",
    "print(f\"Mean Squared Error: {mse}\")"
   ]
  }
 ],
 "metadata": {
  "kernelspec": {
   "display_name": "Python 3 (ipykernel)",
   "language": "python",
   "name": "python3"
  },
  "language_info": {
   "codemirror_mode": {
    "name": "ipython",
    "version": 3
   },
   "file_extension": ".py",
   "mimetype": "text/x-python",
   "name": "python",
   "nbconvert_exporter": "python",
   "pygments_lexer": "ipython3",
   "version": "3.10.14"
  }
 },
 "nbformat": 4,
 "nbformat_minor": 5
}
