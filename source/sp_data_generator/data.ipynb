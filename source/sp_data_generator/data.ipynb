{
 "cells": [
  {
   "cell_type": "code",
   "execution_count": 1,
   "id": "4e73fdd4-7432-41ab-b1d9-534ba630c9f0",
   "metadata": {},
   "outputs": [
    {
     "name": "stdout",
     "output_type": "stream",
     "text": [
      "   product_id product_name     category  unit_cost  setup_cost  setup_time  \\\n",
      "0       P0001    Product 1     Clothing      63.13         554          73   \n",
      "1       P0002    Product 2         Food      18.25         527         191   \n",
      "2       P0003    Product 3   Home Goods      32.75         608         231   \n",
      "3       P0004    Product 4     Clothing      39.80         875         219   \n",
      "4       P0005    Product 5  Electronics      48.33         134          43   \n",
      "5       P0006    Product 6  Electronics      79.59         305         124   \n",
      "6       P0007    Product 7  Electronics      23.97         180          77   \n",
      "7       P0008    Product 8   Home Goods      53.85         661          44   \n",
      "8       P0009    Product 9     Clothing      61.28         971         229   \n",
      "9       P0010   Product 10   Home Goods       9.41         487         235   \n",
      "10      P0011   Product 11  Electronics      62.72         101         219   \n",
      "11      P0012   Product 12         Food      21.20         489          69   \n",
      "12      P0013   Product 13   Home Goods      11.18         665         237   \n",
      "13      P0014   Product 14  Electronics      95.14         205         111   \n",
      "14      P0015   Product 15  Electronics      96.74         871         140   \n",
      "15      P0016   Product 16  Electronics      81.80         921          82   \n",
      "16      P0017   Product 17     Clothing      33.94         576          53   \n",
      "17      P0018   Product 18     Clothing      14.28         802         183   \n",
      "18      P0019   Product 19     Clothing      70.00         501         217   \n",
      "19      P0020   Product 20  Electronics      46.81         829         153   \n",
      "\n",
      "    production_time  min_production_qty  shelf_life_days  weight_kg  volume_m3  \n",
      "0                49                  42              730       3.23     0.0136  \n",
      "1                45                  14               90       4.14     0.0379  \n",
      "2                33                  50               30       5.95     0.0205  \n",
      "3                19                  37              365       0.75     0.0051  \n",
      "4                49                  16               60       4.64     0.0047  \n",
      "5                 5                  82             1095       3.88     0.0162  \n",
      "6                29                  81             1095       1.13     0.0042  \n",
      "7                11                  21              730      14.31     0.0355  \n",
      "8                13                  43             1095       4.57     0.0265  \n",
      "9                28                  42               90       5.93     0.0318  \n",
      "10                5                  57               30      10.62     0.0768  \n",
      "11               48                  32             1095       4.90     0.0168  \n",
      "12               12                  71             1095       1.75     0.0056  \n",
      "13               28                  97               60       0.56     0.0014  \n",
      "14               15                  46               60       3.05     0.0091  \n",
      "15               55                  53              180       1.23     0.0074  \n",
      "16               21                  95              365       2.69     0.0125  \n",
      "17               12                  44               90      10.74     0.0170  \n",
      "18               39                  74             1095       1.96     0.0064  \n",
      "19               39                  56             1095       0.65     0.0021  \n",
      "hello there\n"
     ]
    }
   ],
   "source": [
    "import pandas as pd\n",
    "df = pd.read_excel(\"my_supply_chain_data.xlsx\")\n",
    "print(df.head(20))\n",
    "print(\"hello there\")"
   ]
  },
  {
   "cell_type": "code",
   "execution_count": 2,
   "id": "3d110dfa",
   "metadata": {},
   "outputs": [
    {
     "name": "stdout",
     "output_type": "stream",
     "text": [
      "        date product_id facility_id  demand\n",
      "0 2023-01-01      P0001        F001     459\n",
      "1 2023-01-08      P0001        F001     662\n",
      "2 2023-01-15      P0001        F001     561\n",
      "3 2023-01-22      P0001        F001     864\n",
      "4 2023-01-29      P0001        F001     672\n",
      "5 2023-02-05      P0001        F001     505\n",
      "6 2023-02-12      P0001        F001     435\n",
      "7 2023-02-19      P0001        F001     518\n",
      "8 2023-02-26      P0001        F001     402\n",
      "9 2023-03-05      P0001        F001     458\n"
     ]
    }
   ],
   "source": [
    "df_demand = pd.read_excel(\"my_supply_chain_data.xlsx\", sheet_name=\"demand\")\n",
    "filtered_df = df_demand[df_demand['facility_id'].isin([\"F001\", \"F002\"])]\n",
    "print(filtered_df.head(10))"
   ]
  }
 ],
 "metadata": {
  "kernelspec": {
   "display_name": ".venv (3.10.14)",
   "language": "python",
   "name": "python3"
  },
  "language_info": {
   "codemirror_mode": {
    "name": "ipython",
    "version": 3
   },
   "file_extension": ".py",
   "mimetype": "text/x-python",
   "name": "python",
   "nbconvert_exporter": "python",
   "pygments_lexer": "ipython3",
   "version": "3.10.14"
  }
 },
 "nbformat": 4,
 "nbformat_minor": 5
}
